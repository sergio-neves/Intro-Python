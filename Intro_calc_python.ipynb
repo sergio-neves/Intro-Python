{
  "nbformat": 4,
  "nbformat_minor": 0,
  "metadata": {
    "kernelspec": {
      "display_name": "Python 3",
      "language": "python",
      "name": "python3"
    },
    "language_info": {
      "codemirror_mode": {
        "name": "ipython",
        "version": 3
      },
      "file_extension": ".py",
      "mimetype": "text/x-python",
      "name": "python",
      "nbconvert_exporter": "python",
      "pygments_lexer": "ipython3",
      "version": "3.7.3"
    },
    "colab": {
      "name": "Intro_calc_python.ipynb",
      "provenance": [],
      "collapsed_sections": [],
      "include_colab_link": true
    }
  },
  "cells": [
    {
      "cell_type": "markdown",
      "metadata": {
        "id": "view-in-github",
        "colab_type": "text"
      },
      "source": [
        "<a href=\"https://colab.research.google.com/github/sergio-neves/Intro-Python/blob/main/Intro_calc_python.ipynb\" target=\"_parent\"><img src=\"https://colab.research.google.com/assets/colab-badge.svg\" alt=\"Open In Colab\"/></a>"
      ]
    },
    {
      "cell_type": "markdown",
      "metadata": {
        "id": "CG3qrVylh0BQ"
      },
      "source": [
        "# <center> Cálculo com Python \n",
        "\n",
        "Sérgio L. N. Neves (Ibilce - Unesp)"
      ]
    },
    {
      "cell_type": "markdown",
      "metadata": {
        "id": "vtLE_HpMh0Ba"
      },
      "source": [
        "O computador pode ser usado como uma super calculadora, capaz de realizar inúmeras operações com diversos graus de complexidade. Ao utilizar o computador para realizar uma tarefa é necessário uma linguagem, chamada de linguagem de programação, para realizar nossa comunicação com a máquina. Essa linguagem deve ser objetiva, bem definida e sem ambiguidades. Existem diversas linguagens de programação e muitas delas são adequadas para tarefas matemáticas. Aqui vamos usar a linguagem Python.\n",
        "\n",
        "Python é uma linguagem de programação de alto nível e bastante utilizada atualmente para diversas aplicações, inclusive para cálculo numérico e simbólico. Aqui faremos uma breve introdução sobre as ferramentas básicas dessa linguagem que podem ser utilizadas para o Cálculo."
      ]
    },
    {
      "cell_type": "markdown",
      "metadata": {
        "id": "pH9MJImUh0Bb"
      },
      "source": [
        "Por exemplo, tente executar o comando abaixo "
      ]
    },
    {
      "cell_type": "code",
      "metadata": {
        "scrolled": true,
        "id": "2wmnaLQvh0Bb"
      },
      "source": [
        "2+2\n"
      ],
      "execution_count": null,
      "outputs": []
    },
    {
      "cell_type": "markdown",
      "metadata": {
        "id": "ziUyTMUbh0Bd"
      },
      "source": [
        "Se você apertou apenas a tecla \"Enter\", percebeu que a operação não foi efetuada. Volte ao comando anterior e tente novamente, desta vez faça isso pressionando a tecla \"Shift\" e depois apertando a tecla \"Enter\".\n",
        "\n",
        "Esta é a primeira lição, para executar um comando é preciso usar as teclas \"Shit\" + \"Enter\" (ou também \"Command\" + \"Enter\" em computadoes Mac). Um outra alternativa é simplesmente passar o mouse sobre a célula e clicar no ícone \"Play\" no canto esquerdo <img src='https://encrypted-tbn0.gstatic.com/images?q=tbn:ANd9GcSyZoWdzHHm9LOQqDRZD1Q-yBmBjH33jTLsVA&usqp=CAU' width=\"20\" height=\"20\">.\n",
        "\n",
        "Aproveite para observar como o arquivo é estruturado, o conteúdo é dividido em <i>células</i> que podem ser de dois tipos diferentes, podem ser células de código ou células de texto (html), na verdade existem outros tipos mas por enquanto vamos ficar com essa noção simplificada.\n",
        "\n",
        "Por exemplo, se você posicionar o mouse sobre este texto e der um clique verá um bloco, que na verdade é uma grande célula de texto. Já a célula anterior, aquela que você executou o comando para calcular $2+2$, é uma célula de código. Só é possível fazer cálculos em células de código.\n",
        "\n",
        "Se der um duplo clique sobre este texto, verá o código da célula de texto à sua esquerda e o resultado à sua direita. Executando \"Shit\" + \"Enter\" volta à forma anterior.\n",
        "\n",
        "Cada célula de código é interpretada como uma <i>entrada</i>. Quando uma célula de entrada é executada, ela pode gerar um resultado que será mostrado logo abaixo, esse resultado chamamos de <i>saída</i>. Cada entrada é numerada em ordem de execução."
      ]
    },
    {
      "cell_type": "markdown",
      "metadata": {
        "collapsed": true,
        "raw_mimetype": "text/x-python",
        "id": "cO9AJjvih0Be"
      },
      "source": [
        "## <center> Aritmética Elementar </center>\n",
        "\n",
        "Vejamos como fazer as operações básicas. Execute os códigos abaixo, lembre-se que você deve clicar na célula e depois pressionar as teclas \n",
        " \"Shit\" + \"Enter\"."
      ]
    },
    {
      "cell_type": "markdown",
      "metadata": {
        "id": "bQBLFxtih0Be"
      },
      "source": [
        "Adição"
      ]
    },
    {
      "cell_type": "code",
      "metadata": {
        "id": "2ED2lDy6h0Be"
      },
      "source": [
        "1234 + 5678"
      ],
      "execution_count": null,
      "outputs": []
    },
    {
      "cell_type": "markdown",
      "metadata": {
        "id": "VIqL74tBh0Bf"
      },
      "source": [
        "Subtração"
      ]
    },
    {
      "cell_type": "code",
      "metadata": {
        "id": "5FIGkgU5h0Bf"
      },
      "source": [
        "999 - 111"
      ],
      "execution_count": null,
      "outputs": []
    },
    {
      "cell_type": "markdown",
      "metadata": {
        "id": "IfFxcgNPh0Bg"
      },
      "source": [
        "Multiplicação"
      ]
    },
    {
      "cell_type": "code",
      "metadata": {
        "id": "2KaryYi1h0Bg"
      },
      "source": [
        "7*52"
      ],
      "execution_count": null,
      "outputs": []
    },
    {
      "cell_type": "markdown",
      "metadata": {
        "id": "5KauvMkth0Bg"
      },
      "source": [
        "Divisão"
      ]
    },
    {
      "cell_type": "code",
      "metadata": {
        "id": "1sRL9unyh0Bh"
      },
      "source": [
        "5/2"
      ],
      "execution_count": null,
      "outputs": []
    },
    {
      "cell_type": "markdown",
      "metadata": {
        "id": "3GoCpL9jh0Bi"
      },
      "source": [
        "Para a operação de potenciação fazemos o seguinte, se quisermos calcular por exemplo $2^3$"
      ]
    },
    {
      "cell_type": "code",
      "metadata": {
        "id": "5APOXssTh0Bi"
      },
      "source": [
        "2**3"
      ],
      "execution_count": null,
      "outputs": []
    },
    {
      "cell_type": "markdown",
      "metadata": {
        "id": "202ryTiTh0Bi"
      },
      "source": [
        "Ou seja, a potenciação é indicada usando duas vezes o símbolo de multiplicação.\n",
        "\n",
        "Podemos também efetuar cálculo de expressões."
      ]
    },
    {
      "cell_type": "code",
      "metadata": {
        "id": "IwNQame0h0Bj"
      },
      "source": [
        "1 - 2**3 + 4*5"
      ],
      "execution_count": null,
      "outputs": []
    },
    {
      "cell_type": "markdown",
      "metadata": {
        "id": "YAETgENnh0Bj"
      },
      "source": [
        "As operações são efetuadas na mesma ordem que fazemos em matemática: potenciação, multiplicação, adição. Por exemplo, <code> 4&#42;5&#42;&#42;2+7 </code> é o mesmo que $(4 \\cdot (5^2)) +7$"
      ]
    },
    {
      "cell_type": "code",
      "metadata": {
        "id": "Zbx-MPpTh0Bj"
      },
      "source": [
        "4*5**2+7"
      ],
      "execution_count": null,
      "outputs": []
    },
    {
      "cell_type": "markdown",
      "metadata": {
        "id": "30GaTj_Ph0Bk"
      },
      "source": [
        "## <center>Cálculo Simbólico "
      ]
    },
    {
      "cell_type": "markdown",
      "metadata": {
        "id": "4viyY6u2h0Bk"
      },
      "source": [
        "Podemos definir funções e depois utilizá-las para fazer operações. Existem também diversas funções pré-definidas, essas funções estão programadas em \"pacotes\" que devem ser carregados antes de se utilizar. \n",
        "\n",
        "No próximo comando vamos carregar o pacote de cálculo simbólico <i>sympy</i>, além de especificar alguns símbolos que serão utilizados."
      ]
    },
    {
      "cell_type": "code",
      "metadata": {
        "id": "PB5XYZ2Bh0Bk"
      },
      "source": [
        "from sympy import *\n",
        "x, y, z, t = symbols('x y z t')\n",
        "k, m, n = symbols('k m n', integer=True)\n",
        "f, g, h = symbols('f g h', cls=Function)"
      ],
      "execution_count": null,
      "outputs": []
    },
    {
      "cell_type": "markdown",
      "metadata": {
        "id": "kCjDKioIh0Bl"
      },
      "source": [
        "Vamos utilizar as letras <code>x, y, z, t</code> como variáveis de funções, <code>k, m, n</code> para números inteiros e <code>f, g, h</code> para funções."
      ]
    },
    {
      "cell_type": "markdown",
      "metadata": {
        "id": "h-iEvDyRh0Bl"
      },
      "source": [
        "A função raiz quadrada, por exemplo, é definida como <code>sqrt</code>."
      ]
    },
    {
      "cell_type": "code",
      "metadata": {
        "id": "6MKNNfXSh0Bl"
      },
      "source": [
        "sqrt(2)"
      ],
      "execution_count": null,
      "outputs": []
    },
    {
      "cell_type": "markdown",
      "metadata": {
        "id": "6NCtMBaFh0Bm"
      },
      "source": [
        "Se quiser ver o resultado com a expansão decimal existe a função <code>N</code>, para o valor numérico."
      ]
    },
    {
      "cell_type": "code",
      "metadata": {
        "id": "qyh0L1nKh0Bm"
      },
      "source": [
        "N(sqrt(2))"
      ],
      "execution_count": null,
      "outputs": []
    },
    {
      "cell_type": "markdown",
      "metadata": {
        "id": "XWaeu9qlh0Bm"
      },
      "source": [
        "Se quiser escolher quantas casas decimais você pode fazer o seguinte."
      ]
    },
    {
      "cell_type": "code",
      "metadata": {
        "id": "zxgND9XMh0Bm"
      },
      "source": [
        "N(sqrt(2),50)"
      ],
      "execution_count": null,
      "outputs": []
    },
    {
      "cell_type": "code",
      "metadata": {
        "id": "DAKdBekVh0Bn"
      },
      "source": [
        "N(pi,60)"
      ],
      "execution_count": null,
      "outputs": []
    },
    {
      "cell_type": "markdown",
      "metadata": {
        "id": "2fg3JDP3h0Bn"
      },
      "source": [
        "Da última célula você pode obervar que basta escrever <code>pi</code> para se referir ao número $\\large \\pi$.\n",
        "\n",
        "As funções trigonométricas também já estão pré-definidas no pacote sympy, por exemplo seno e cosseno são definidas como <code>sin</code>, <code>cos</code>."
      ]
    },
    {
      "cell_type": "code",
      "metadata": {
        "id": "-sS_H6Dqh0Bn"
      },
      "source": [
        "sin(pi/6) "
      ],
      "execution_count": null,
      "outputs": []
    },
    {
      "cell_type": "code",
      "metadata": {
        "id": "HfjJT61Lh0Bo"
      },
      "source": [
        "cos(pi/6)"
      ],
      "execution_count": null,
      "outputs": []
    },
    {
      "cell_type": "markdown",
      "metadata": {
        "id": "LUc4dkakh0Bo"
      },
      "source": [
        "Observe que ele reconhece as identidades trigonométricas. Por exemplo, para $\\text{sen}^2(x) + \\cos^2(x)$"
      ]
    },
    {
      "cell_type": "code",
      "metadata": {
        "id": "OL_4X08gh0Bo"
      },
      "source": [
        "simplify(sin(x)**2 + cos(x)**2)"
      ],
      "execution_count": null,
      "outputs": []
    },
    {
      "cell_type": "markdown",
      "metadata": {
        "id": "q5sE36KYh0Bo"
      },
      "source": [
        "Ele é útil para simplificar expressões como $\\dfrac{x^3 + x^2 - x - 1}{x^2 + 2x + 1}$ "
      ]
    },
    {
      "cell_type": "code",
      "metadata": {
        "id": "1cu4N5Dzh0Bp"
      },
      "source": [
        "simplify((x**3 + x**2 - x - 1)/(x**2 + 2*x + 1))"
      ],
      "execution_count": null,
      "outputs": []
    },
    {
      "cell_type": "markdown",
      "metadata": {
        "id": "Mft_yA_Ch0Bp"
      },
      "source": [
        "Ou seja $\\dfrac{x^3 + x^2 - x - 1}{x^2 + 2x + 1} = x-1$.\n",
        "\n",
        "Algumas expressões ele simplifica automaticamente."
      ]
    },
    {
      "cell_type": "code",
      "metadata": {
        "id": "2tknPugzh0Bp"
      },
      "source": [
        "sqrt(8)"
      ],
      "execution_count": null,
      "outputs": []
    },
    {
      "cell_type": "markdown",
      "metadata": {
        "id": "knlH3c2Nh0Bp"
      },
      "source": [
        "Pode ser usado para expandir expressões."
      ]
    },
    {
      "cell_type": "code",
      "metadata": {
        "id": "NeUpGpECh0Bq"
      },
      "source": [
        "expand((x+y)**7)"
      ],
      "execution_count": null,
      "outputs": []
    },
    {
      "cell_type": "markdown",
      "metadata": {
        "id": "bfQoWItRh0Bq"
      },
      "source": [
        "### Definir funções"
      ]
    },
    {
      "cell_type": "markdown",
      "metadata": {
        "id": "JBvf-FmTh0Bq"
      },
      "source": [
        "Podemos definir também nossas próprias funções, por exemplo vamos definir a função \n",
        "\n",
        "\\begin{align}\n",
        " f \\ : \\mathbb{R} &\\to \\mathbb{R} \\\\\n",
        " x & \\mapsto f(x) = 2x^4 - 3x^2 + x +2\n",
        "\\end{align}"
      ]
    },
    {
      "cell_type": "code",
      "metadata": {
        "id": "q9ujuC4-h0Bq"
      },
      "source": [
        "# define a função\n",
        "def f(x): return 2*x**4 - 3*x**2 + x + 2\n",
        "# exibe a expressão da função f(x)\n",
        "f(x)"
      ],
      "execution_count": null,
      "outputs": []
    },
    {
      "cell_type": "markdown",
      "metadata": {
        "id": "-aST3mzFh0Br"
      },
      "source": [
        "Observe que na célula anterior, a primeira e a terceira linha, começam com <code>#</code>. Esse símbolo é usado para fazer o que chamamos de <em>comentário</em> no meio do código, um comentário é algo que será ignorado pelo computador na hora de executar o código, portanto, tudo que aparece na linha depois de <code>#</code> não será executado. Isso é útil quando se deseja deixar uma mensagem ali para quem lê o código ou então para isolar uma parte do código que você não quer que seja executada naquele momento mas também não quer apagar definitivamente pois poderá voltar a usá-la no futuro. "
      ]
    },
    {
      "cell_type": "markdown",
      "metadata": {
        "id": "7XKdqEsQJ26K"
      },
      "source": [
        "Observe que o resultado e as fórmulas matemáticas aparecem na saída escritos com uma fonte agradável de ler."
      ]
    },
    {
      "cell_type": "code",
      "metadata": {
        "id": "Rd2KsoSAh0Bs"
      },
      "source": [
        "5/2, sqrt(2), pi/17"
      ],
      "execution_count": null,
      "outputs": []
    },
    {
      "cell_type": "markdown",
      "metadata": {
        "id": "-aSY8q1zh0Bs"
      },
      "source": [
        "### Resumo das principais funções pré-definidas"
      ]
    },
    {
      "cell_type": "markdown",
      "metadata": {
        "id": "XzgCBEHoh0Bt"
      },
      "source": [
        "<table>\n",
        "<tbody>\n",
        "<tr style=\"height: 23px;\">\n",
        "<td style=\"height: 23px;\">Fun&ccedil;&atilde;o</td>\n",
        "<td style=\"height: 23px;\">C&oacute;digo</td>\n",
        "</tr>\n",
        "<tr style=\"height: 23px;\">\n",
        "<td style=\"height: 23px;\">seno</td>\n",
        "<td style=\"height: 23px;\"><code>sin</code></td>\n",
        "</tr>\n",
        "<tr style=\"height: 23px;\">\n",
        "<td style=\"height: 23px;\">cosseno</td>\n",
        "<td style=\"height: 23px;\"><code>cos</code></td>\n",
        "</tr>\n",
        "<tr style=\"height: 23px;\">\n",
        "<td style=\"height: 23px;\">tangente</td>\n",
        "<td style=\"height: 23px;\"><code>tan</code></td>\n",
        "</tr>\n",
        "<tr style=\"height: 23px;\">\n",
        "<td style=\"height: 23px;\">secante</td>\n",
        "<td style=\"height: 23px;\"><code>sec</code></td>\n",
        "</tr>\n",
        "<tr style=\"height: 23px;\">\n",
        "<td style=\"height: 23px;\">cossecante</td>\n",
        "<td style=\"height: 23px;\"><code>csc</code></td>\n",
        "</tr>\n",
        "<tr style=\"height: 23px;\">\n",
        "<td style=\"height: 23px;\">cotangente</td>\n",
        "<td style=\"height: 23px;\"><code>cot</code></td>\n",
        "</tr>\n",
        "<tr style=\"height: 23px;\">\n",
        "<td style=\"height: 23px;\">arcoseno</td>\n",
        "<td style=\"height: 23px;\"><code>asin</code></td>\n",
        "</tr>\n",
        "<tr style=\"height: 23px;\">\n",
        "<td style=\"height: 23px;\">arcocosseno</td>\n",
        "<td style=\"height: 23px;\"><code>acos</code></td>\n",
        "</tr>\n",
        "<tr style=\"height: 23px;\">\n",
        "<td style=\"height: 23px;\">arcotangente</td>\n",
        "<td style=\"height: 23px;\"><code>atan</code></td>\n",
        "</tr>\n",
        "<tr style=\"height: 23px;\">\n",
        "<td style=\"height: 23px;\">exponencial</td>\n",
        "<td style=\"height: 23px;\"><code>exp</code></td>\n",
        "</tr>\n",
        "<tr style=\"height: 23px;\">\n",
        "<td style=\"height: 23px;\">logaritmo natural</td>\n",
        "<td style=\"height: 23px;\"><code>log</code></td>\n",
        "</tr>\n",
        "<tr style=\"height: 23px;\">\n",
        "<td style=\"height: 23px;\">valor absoluto</td>\n",
        "<td style=\"height: 23px;\"><code>abs</code></td>\n",
        "</tr>\n",
        "</tbody>\n",
        "</table>"
      ]
    },
    {
      "cell_type": "code",
      "metadata": {
        "id": "BBj-C87xh0Bt"
      },
      "source": [
        "tan(pi/4), sec(pi/8), csc(pi/5), cot(-pi/5), asin(-1), acos(sqrt(3)/2), atan(1), exp(-3), log(2.71818), abs(-15)"
      ],
      "execution_count": null,
      "outputs": []
    },
    {
      "cell_type": "markdown",
      "metadata": {
        "id": "5QrQE5_Wh0Bu"
      },
      "source": [
        "Podemos usar essas funções pré-definidas para construir outras funções. Por exemplo, vamos definir a função\n",
        "\n",
        "\\begin{align}\n",
        " g \\ : \\mathbb{R} &\\to \\mathbb{R} \\\\\n",
        " x & \\mapsto g(x) = \\text{sen}(e^{x^2}) + \\ln\\left( |\\cos(x)| +1 \\right)\n",
        "\\end{align}"
      ]
    },
    {
      "cell_type": "code",
      "metadata": {
        "id": "iWlmr66mh0Bu"
      },
      "source": [
        "# define a função\n",
        "def g(x): return sin(exp(x**2)) + log(abs(cos(x)) + 1)\n",
        "# exibe a expressão da função g(x)\n",
        "g(x)"
      ],
      "execution_count": null,
      "outputs": []
    },
    {
      "cell_type": "code",
      "metadata": {
        "id": "R8uC5JF3h0Bu"
      },
      "source": [
        "g(0)"
      ],
      "execution_count": null,
      "outputs": []
    },
    {
      "cell_type": "code",
      "metadata": {
        "id": "u1Vz2KDUh0Bv"
      },
      "source": [
        "N(g(0))"
      ],
      "execution_count": null,
      "outputs": []
    },
    {
      "cell_type": "markdown",
      "metadata": {
        "id": "HXJ83uK-h0Bv"
      },
      "source": [
        "# <center>Cálculo Numérico</center>"
      ]
    },
    {
      "cell_type": "markdown",
      "metadata": {
        "collapsed": true,
        "id": "R5lZbUBvh0Bv"
      },
      "source": [
        "Para fazer cálculo numérico nós usamos o pacote NumPy, cujo nome é uma abreviação de \"Numeric Python\". Ele serve para realizar cálculo numérico de maneira rápida e eficiente além de conter diversas funções pré-definidas. O NumPy também é muito útil para fazer cálculo com vetores e matrizes, que são chamados de <i>arrays</i>."
      ]
    },
    {
      "cell_type": "code",
      "metadata": {
        "collapsed": true,
        "id": "FggATomNh0Bv"
      },
      "source": [
        "from numpy import *"
      ],
      "execution_count": null,
      "outputs": []
    },
    {
      "cell_type": "markdown",
      "metadata": {
        "id": "o03mGn99h0Bw"
      },
      "source": [
        "Observe que cada pacote tem suas funções pré-definidas. Se você carregou dois pacotes diferentes e cada um desses pacotes têm duas funções pré-definidas com o mesmo nome, então será considerada a função relativa ao último pacote carregado.\n",
        "\n",
        "Por exemplo, nós já carregamos os pacotes <code>sympy</code> e <code>numpy</code> e ambos tem a função para a raiz quadrada definida como <code>sqrt</code>.\n",
        "\n",
        "No pacote de cálculo simbólico SymPy, quando calculamos a raiz quadrada de 8 obtivemos o resultado $2\\sqrt{2}$. Veja o que acontece agora quando fazemos o mesmo cálculo, porém após carregar o pacote de cálculo numérico NumPy."
      ]
    },
    {
      "cell_type": "code",
      "metadata": {
        "id": "hsPWanjLh0Bw"
      },
      "source": [
        "sqrt(8)"
      ],
      "execution_count": null,
      "outputs": []
    },
    {
      "cell_type": "markdown",
      "metadata": {
        "id": "qC8ZgvdAh0Bx"
      },
      "source": [
        "Portanto, lembre-se desse detalhe quando for executar uma função como essa que está definida com o mesmo nome em pacotes diferentes (e com resultados diferentes).\n",
        "\n",
        "Nós poderíamos contornar isso alterando o modo como nos referimos à cada pacote, por exemplo, podemos escolher nos referir ao pacote Sympy como <code>sp</code> e ao pacote Numpy como <code>np</code>. Vejamos, rapidamente como fazer isso. "
      ]
    },
    {
      "cell_type": "code",
      "metadata": {
        "id": "GXgtlT3sLLWQ"
      },
      "source": [
        "import sympy as sp\n",
        "import numpy as np"
      ],
      "execution_count": null,
      "outputs": []
    },
    {
      "cell_type": "markdown",
      "metadata": {
        "id": "MhdBD57hLSqg"
      },
      "source": [
        "Agora vamos calcular a raiz de 8 usando de duas maneiras, uma com o Sympy e outra com o Numpy. Para isso, basta fazer:"
      ]
    },
    {
      "cell_type": "code",
      "metadata": {
        "id": "kyeSV0IALi_M"
      },
      "source": [
        "sp.sqrt(8)"
      ],
      "execution_count": null,
      "outputs": []
    },
    {
      "cell_type": "markdown",
      "metadata": {
        "id": "cj3VJgnlLmwn"
      },
      "source": [
        "e"
      ]
    },
    {
      "cell_type": "code",
      "metadata": {
        "id": "dbNagIo0Ln3s"
      },
      "source": [
        "np.sqrt(8)"
      ],
      "execution_count": null,
      "outputs": []
    },
    {
      "cell_type": "markdown",
      "metadata": {
        "id": "eVc6xfhwMKNi"
      },
      "source": [
        "Percebeu a diferença? Dessa forma, escrevendo <code>sp.sqrt</code> você está especificando que quer usar a função <code>sqrt</code> definida na biblioteca Sympy e analogamente ao escrever <code>np.sqrt</code> você está especificando que quer usar a função <code>sqrt</code> definida na biblioteca Numpy, pois anteriormente pedimos para importar <code>sympy</code> como <code>sp</code> e para importar <code>numpy</code> como <code>np</code>. Essa é uma prática bastante utilizada em programação.\n",
        "\n",
        "Entretanto, para manter o código o mais simplificado possível, vamos voltar e importar todas as funções da biblioteca Numpy com o seu nome original (sem precisar especificar com <code>np.</code> na frente). Faremos isso pois daqui em diante vamos usar apenas as funções da biblioteca Numpy, sem risco de ambiguidade. Para isso execute o código abaixo."
      ]
    },
    {
      "cell_type": "code",
      "metadata": {
        "id": "j34bJhZcO610"
      },
      "source": [
        "from numpy import *"
      ],
      "execution_count": null,
      "outputs": []
    },
    {
      "cell_type": "markdown",
      "metadata": {
        "id": "7tOU4Rw_h0Bx"
      },
      "source": [
        "### Trabalhando com vetores (array)"
      ]
    },
    {
      "cell_type": "markdown",
      "metadata": {
        "id": "07HoDKxDh0Bx"
      },
      "source": [
        "Por exemplo, vamos definir uma lista de números."
      ]
    },
    {
      "cell_type": "code",
      "metadata": {
        "collapsed": true,
        "id": "-M6mWKD5h0Bx"
      },
      "source": [
        "lista = [1.3, 2.7, -4.1]"
      ],
      "execution_count": null,
      "outputs": []
    },
    {
      "cell_type": "markdown",
      "metadata": {
        "id": "bYe5_cHHh0By"
      },
      "source": [
        "Em seguida, vamos definir um vetor cujas entradas são iguais aos valores da lista. Na linguagem do numpy, vamos definir um <code>array</code>. "
      ]
    },
    {
      "cell_type": "code",
      "metadata": {
        "collapsed": true,
        "id": "ErG3Kzwyh0By"
      },
      "source": [
        "vetor = array(lista)"
      ],
      "execution_count": null,
      "outputs": []
    },
    {
      "cell_type": "markdown",
      "metadata": {
        "id": "mzbYBoAth0By"
      },
      "source": [
        "Observe que poderíamos ter feito isso diretamente com <code>vetor = array([1.3, 2.7, -4.1]) </code>"
      ]
    },
    {
      "cell_type": "code",
      "metadata": {
        "id": "sElQxM2-h0By"
      },
      "source": [
        "vetor"
      ],
      "execution_count": null,
      "outputs": []
    },
    {
      "cell_type": "markdown",
      "metadata": {
        "id": "ndvZS36Rh0Bz"
      },
      "source": [
        "Mas então, qual a diferença entre o vetor e a lista nesse caso? Uma diferença é que com o vetor podemos programar facilmente operações que são feitas <i> coordenada a coordenada </i>. \n",
        "\n",
        "Por exemplo, o que acontece se multiplicarmos a lista por 2? Vejamos"
      ]
    },
    {
      "cell_type": "code",
      "metadata": {
        "id": "HwNES_yEh0Bz"
      },
      "source": [
        "2*lista"
      ],
      "execution_count": null,
      "outputs": []
    },
    {
      "cell_type": "markdown",
      "metadata": {
        "id": "0khWLTLYh0Bz"
      },
      "source": [
        "Percebeu o que aconteceu? O resultado foi uma lista com o dobro de tamanho, uma concatenação de duas cópias da mesma lista.\n",
        "\n",
        "Agora vejamos o que acontece quando multiplicamos o vetor por 2."
      ]
    },
    {
      "cell_type": "code",
      "metadata": {
        "id": "HQtRsmJHh0Bz"
      },
      "source": [
        "2*vetor"
      ],
      "execution_count": null,
      "outputs": []
    },
    {
      "cell_type": "markdown",
      "metadata": {
        "id": "ZHu5SZMth0B0"
      },
      "source": [
        "Entendeu como funciona a operação? O <code>array</code> é útil pois podemos fazer diversas operações como essa, inclusive podemos aplicar uma função, calculando seu valor em cada coordenada. \n",
        "\n",
        "Por exemplo, para calcular o cosseno de cada entrada do vetor basta fazer"
      ]
    },
    {
      "cell_type": "code",
      "metadata": {
        "id": "5ir8P1glh0B0"
      },
      "source": [
        "cos(vetor)"
      ],
      "execution_count": null,
      "outputs": []
    },
    {
      "cell_type": "markdown",
      "metadata": {
        "id": "qjBepyxbh0B0"
      },
      "source": [
        "Esse tipo de operação é muito útil para fazer gráficos de funções, basta especificar um <code>array</code> com uma lista de pontos do domínio e aplicar a função para obter a lista dos valores correspondentes da função."
      ]
    },
    {
      "cell_type": "markdown",
      "metadata": {
        "id": "XqWhz4vah0B0"
      },
      "source": [
        "### Outras maneiras de definir um array"
      ]
    },
    {
      "cell_type": "markdown",
      "metadata": {
        "id": "mn4YlxFUh0B0"
      },
      "source": [
        "O comando <code>arange(v_i, v_m, k)</code> define um <code>array</code> com todos os números da sequência v_i, v_i + k, v_i + 2k, ... estritamente menores do que o valor máximo v_m. \n",
        "\n",
        "Veja o exemplo abaixo."
      ]
    },
    {
      "cell_type": "code",
      "metadata": {
        "scrolled": true,
        "id": "t8wbQt3Mh0B1"
      },
      "source": [
        "arange(1.0,100.0,1)"
      ],
      "execution_count": null,
      "outputs": []
    },
    {
      "cell_type": "markdown",
      "metadata": {
        "id": "Xj7wNzfUh0B1"
      },
      "source": [
        "Se você quiser uma lista de $n$ pontos do intervalo $[a,b]$ igualmente espaçados e incluindo os extremos do intervalo, você pode usar o comando <code>linspace(a, b, num=n)</code>\n",
        "\n",
        "Veja o exemplo abaixo."
      ]
    },
    {
      "cell_type": "code",
      "metadata": {
        "id": "6xte4l2Bh0B1"
      },
      "source": [
        "linspace(1.0, 2.0, num=5)"
      ],
      "execution_count": null,
      "outputs": []
    },
    {
      "cell_type": "markdown",
      "metadata": {
        "id": "chqcJnHIh0B1"
      },
      "source": [
        "Ou por exemplo"
      ]
    },
    {
      "cell_type": "code",
      "metadata": {
        "id": "x2bfelw3h0B2"
      },
      "source": [
        "linspace(1, 100, num=100)"
      ],
      "execution_count": null,
      "outputs": []
    },
    {
      "cell_type": "markdown",
      "metadata": {
        "id": "ULSaTpBoh0B2"
      },
      "source": [
        "### Matrizes\n",
        "\n",
        "Você pode fazer também operações com matrizes. Por exemplo, vamos definir as matrizes \n",
        "\n",
        "$$ A = \\begin{pmatrix} 1 & 2 \\\\ 3 & 8  \\end{pmatrix}  \\qquad \\text{e} \\qquad B = \\begin{pmatrix} 0 & -1 \\\\ 5 & 4  \\end{pmatrix}$$"
      ]
    },
    {
      "cell_type": "code",
      "metadata": {
        "id": "VMKZezIjh0B2"
      },
      "source": [
        "A = array([[1,2], [3,8]])\n",
        "B = array([[0,-1], [5,4]])\n",
        "print(A)  \n",
        "print(B)"
      ],
      "execution_count": null,
      "outputs": []
    },
    {
      "cell_type": "markdown",
      "metadata": {
        "id": "Z5quNy-wh0B3"
      },
      "source": [
        "Para fazer várias operações, como por exemplo\n",
        "\n",
        "a soma das matrizes $A + B$"
      ]
    },
    {
      "cell_type": "code",
      "metadata": {
        "id": "zIAXeRGTh0B3"
      },
      "source": [
        "A + B"
      ],
      "execution_count": null,
      "outputs": []
    },
    {
      "cell_type": "markdown",
      "metadata": {
        "id": "2YIOfxB1h0B4"
      },
      "source": [
        "o produto de matrizes $A \\cdot B$"
      ]
    },
    {
      "cell_type": "code",
      "metadata": {
        "id": "FiY0dcKch0B4"
      },
      "source": [
        "dot(A,B)"
      ],
      "execution_count": null,
      "outputs": []
    },
    {
      "cell_type": "markdown",
      "metadata": {
        "id": "LFwtPM5yh0B4"
      },
      "source": [
        "calcular determinantes"
      ]
    },
    {
      "cell_type": "code",
      "metadata": {
        "id": "LfysUMl-h0B4"
      },
      "source": [
        "linalg.det(A), linalg.det(B)"
      ],
      "execution_count": null,
      "outputs": []
    },
    {
      "cell_type": "markdown",
      "metadata": {
        "id": "S6a0Fr-th0B5"
      },
      "source": [
        "E podemos também resolver sistemas lineares. Por exemplo, considere o sistema\n",
        "\n",
        "$$ \\begin{cases}x + 2y &= 1 \\\\ 3x + 8y &= 1 \\end{cases}$$\n",
        "\n",
        "que pode ser escrito na forma matricial como\n",
        "\n",
        "$$ \\begin{pmatrix} 1 & 2 \\\\ 3 & 8  \\end{pmatrix} \\begin{pmatrix} x  \\\\ y  \\end{pmatrix} = \\begin{pmatrix} 1 \\\\ 1  \\end{pmatrix}$$\n",
        "\n",
        "ou seja\n",
        "\n",
        "$$ A \\begin{pmatrix} x  \\\\ y  \\end{pmatrix} = V$$\n",
        "\n",
        "onde $A = \\begin{pmatrix} 1 & 2 \\\\ 3 & 8  \\end{pmatrix}$ e $V = \\begin{pmatrix} 1 \\\\ 1  \\end{pmatrix}.$\n",
        "\n",
        "Para calcular a solução do sistema basta executar o comando abaixo."
      ]
    },
    {
      "cell_type": "code",
      "metadata": {
        "id": "Ch7sy-9sh0B5"
      },
      "source": [
        "V = array([[1],[1]])\n",
        "linalg.solve(A,V)"
      ],
      "execution_count": null,
      "outputs": []
    },
    {
      "cell_type": "markdown",
      "metadata": {
        "id": "kzBvxzRLh0B5"
      },
      "source": [
        "# <center>Gráficos</center>\n",
        "\n",
        "Vejamos agora como fazer gráficos, para isso vamos precisar de um pacote específico para gerar gráficos."
      ]
    },
    {
      "cell_type": "code",
      "metadata": {
        "collapsed": true,
        "id": "ttiUQbWGh0B6"
      },
      "source": [
        "import matplotlib.pyplot as plt"
      ],
      "execution_count": null,
      "outputs": []
    },
    {
      "cell_type": "markdown",
      "metadata": {
        "id": "Dy5Kao2uh0B6"
      },
      "source": [
        "Na célula anterior invocamos o pacote <code>matplotlib</code> para geração de gráficos.\n",
        "\n",
        "Existem diversas maneiras de construir um gráfico, nos cursos de cálculo nós trabalhamos basicamente com gráficos de funções. Geralmente aprendemos que o gráfico de uma função é o conjunto\n",
        "\n",
        "$$\\{ (x,f(x)) \\ | \\ x \\in D_f \\} \\qquad \\text{onde } D_f \\text{ é o domínio da função f,}$$\n",
        "\n",
        "ou seja, o gráfico nada mais é do que um conjunto de pares $(x,y)$ onde $y=f(x)$. Uma boa maneira de visualizar o gráfico é associar a cada \"par ordenado\" $(x,y)$ as coordenadas em um plano.\n",
        "\n",
        "Por exemplo, vamos fazer um gráfico da temperatura média anual do planeta terra nos últimos anos.\n",
        "\n",
        "<table>\n",
        "<caption><center>Temperatura média global por ano</center></caption>\n",
        "<tbody>\n",
        "<tr style=\"height: 21px;\">\n",
        "<td style=\"height: 21px;\">&nbsp;Ano</td>\n",
        "<td style=\"height: 21px;\">&nbsp;1886</td>\n",
        "<td style=\"height: 21px;\">&nbsp;1896</td>\n",
        "<td style=\"height: 21px;\">&nbsp;1906</td>\n",
        "<td style=\"height: 21px;\">&nbsp;1916</td>\n",
        "<td style=\"height: 21px;\">&nbsp;1926</td>\n",
        "<td style=\"height: 21px;\">&nbsp;1936</td>\n",
        "<td style=\"height: 21px;\">&nbsp;1946</td>\n",
        "<td style=\"height: 21px;\">&nbsp;1956</td>\n",
        "<td style=\"height: 21px;\">&nbsp;1966</td>\n",
        "<td style=\"height: 21px;\">&nbsp;1976</td>\n",
        "<td style=\"height: 21px;\">&nbsp;1986</td>\n",
        "<td style=\"height: 21px;\">&nbsp;1996</td>\n",
        "<td style=\"height: 21px;\">&nbsp;2006</td>\n",
        "<td style=\"height: 21px;\">&nbsp;2016</td>\n",
        "</tr>\n",
        "<tr style=\"height: 21px;\">\n",
        "<td style=\"height: 21px;\">&nbsp;&deg; C</td>\n",
        "<td style=\"height: 21px;\">&nbsp;13,72</td>\n",
        "<td style=\"height: 21px;\">&nbsp;13,86</td>\n",
        "<td style=\"height: 21px;\">&nbsp;13,78</td>\n",
        "<td style=\"height: 21px;\">&nbsp;13,67</td>\n",
        "<td style=\"height: 21px;\">&nbsp;13,91</td>\n",
        "<td style=\"height: 21px;\">&nbsp;13,86</td>\n",
        "<td style=\"height: 21px;\">&nbsp;13,97</td>\n",
        "<td style=\"height: 21px;\">&nbsp;13,80</td>\n",
        "<td style=\"height: 21px;\">&nbsp;13,95</td>\n",
        "<td style=\"height: 21px;\">&nbsp;13,88</td>\n",
        "<td style=\"height: 21px;\">&nbsp;14,19</td>\n",
        "<td style=\"height: 21px;\">&nbsp;14,35</td>\n",
        "<td style=\"height: 21px;\">&nbsp;14,63</td>\n",
        "<td style=\"height: 21px;\">&nbsp;14,98</td>\n",
        "</tr>\n",
        "</tbody>\n",
        "<caption align=\"bottom\">*Fonte: https://data.giss.nasa.gov/gistemp/ </caption>\n",
        "</table>\n",
        "\n",
        "para isso vamos definir duas listas de números, uma com as coordenadas <code>x</code> que representam o ano e outra com as coordenadas <code>y</code> com os valores da temperatura."
      ]
    },
    {
      "cell_type": "code",
      "metadata": {
        "id": "3rdpQmY6h0B6"
      },
      "source": [
        "x = array([1886, 1896, 1906, 1916, 1926, 1936, 1946, 1956, 1966, 1976, 1986, 1996, 2006, 2016]) \n",
        "y = array([13.72, 13.86, 13.78, 13.67, 13.91, 13.86, 13.97, 13.80, 13.95, 13.88, 14.19, 14.35, 14.63, 14.98]) "
      ],
      "execution_count": null,
      "outputs": []
    },
    {
      "cell_type": "markdown",
      "metadata": {
        "id": "rj_xxcOBh0B7"
      },
      "source": [
        "Em seguida executamos o comando que irá gerar o gráfico com as coordenadas <code>(x,y)</code> de acordo com os valores que definimos anteriormente."
      ]
    },
    {
      "cell_type": "code",
      "metadata": {
        "scrolled": true,
        "id": "iMcFZHNRh0B7"
      },
      "source": [
        "plt.plot(x, y)\n",
        "plt.show() "
      ],
      "execution_count": null,
      "outputs": []
    },
    {
      "cell_type": "markdown",
      "metadata": {
        "id": "Cor00aQqh0B7"
      },
      "source": [
        "Existem também diversas maneiras de representar um mesmo gráfico, com vários opcionais de customização. Vejamos por exemplo como fazer o gráfico anterior com barras verticais."
      ]
    },
    {
      "cell_type": "code",
      "metadata": {
        "id": "KyxPCX0gh0B7"
      },
      "source": [
        "plt.bar(x, y,width=4,color='r',align='center')\n",
        "plt.ylim([13, 15])\n",
        "plt.show()"
      ],
      "execution_count": null,
      "outputs": []
    },
    {
      "cell_type": "markdown",
      "metadata": {
        "id": "IGEzdZu-h0B8"
      },
      "source": [
        "## Gráficos de funções\n",
        "\n",
        "Vamos começar com o exemplo de um gráfico da função $\\text{sen}(x)$. Para isso, vamos fazer como antes, definir duas listas de pontos \n",
        "\n",
        "$x=[x_1, x_2, x_3,..., x_n]$,\n",
        "\n",
        "$y=[\\text{sen}(x_1), \\text{sen}(x_2), \\text{sen}(x_3),..., \\text{sen}(x_n)]$ \n",
        "\n",
        "e em seguida mostrar o gráfico com os pontos $\\{(x_j, \\text{sen}(x_j)) \\ | \\ j = 1,..., n\\}$ unidos por um segmento de reta.\n",
        "\n",
        "Vamos começar com 6 pontos, no intervalo $[0, 2\\pi]$."
      ]
    },
    {
      "cell_type": "code",
      "metadata": {
        "scrolled": false,
        "id": "slw-6syih0B8"
      },
      "source": [
        "x = array([0, (2*pi)/5, 2*(2*pi)/5, 3*(2*pi)/5, 4*(2*pi)/5, 5*(2*pi)/5])\n",
        "plt.plot(x, sin(x))\n",
        "plt.show()"
      ],
      "execution_count": null,
      "outputs": []
    },
    {
      "cell_type": "markdown",
      "metadata": {
        "id": "OuAurk2Wh0B8"
      },
      "source": [
        "Vejamos como fazer o mesmo gráfico, porém com a função modificada de modo que a escrita fique mais simples."
      ]
    },
    {
      "cell_type": "code",
      "metadata": {
        "scrolled": true,
        "id": "1VtKM5oXh0B8"
      },
      "source": [
        "x = array([0.0, 0.2, 0.4, 0.6, 0.8, 1.0])\n",
        "plt.plot(x, sin(2*pi*x))\n",
        "plt.show()"
      ],
      "execution_count": null,
      "outputs": []
    },
    {
      "cell_type": "markdown",
      "metadata": {
        "id": "YK6vSsfBh0B9"
      },
      "source": [
        "Vamos fazer agora o gráfico com mais pontos."
      ]
    },
    {
      "cell_type": "code",
      "metadata": {
        "id": "FcuiNw5Kh0B9"
      },
      "source": [
        "x = arange(0,1,0.1)\n",
        "plt.plot(x, sin(2*pi*x))\n",
        "plt.show()"
      ],
      "execution_count": null,
      "outputs": []
    },
    {
      "cell_type": "markdown",
      "metadata": {
        "id": "S3nA3hZwh0B9"
      },
      "source": [
        "Agora de outra maneira, com 50 pontos."
      ]
    },
    {
      "cell_type": "code",
      "metadata": {
        "id": "tN2GRGVZh0CB"
      },
      "source": [
        "x = linspace(0.0, 1.0, num=50)\n",
        "plt.plot(x, sin(2*pi*x))\n",
        "plt.show()"
      ],
      "execution_count": null,
      "outputs": []
    },
    {
      "cell_type": "markdown",
      "metadata": {
        "collapsed": true,
        "id": "pfMeyaZ1h0CC"
      },
      "source": [
        "Vamos fazer agora dois gráficos em um mesmo eixo."
      ]
    },
    {
      "cell_type": "code",
      "metadata": {
        "id": "ZYr3tTVOh0CC"
      },
      "source": [
        "x = linspace(-1.0, 1.0, num=100)\n",
        "plt.plot(x, sin(2*pi*x))\n",
        "plt.plot(x, cos(2*pi*x))\n",
        "plt.show()"
      ],
      "execution_count": null,
      "outputs": []
    },
    {
      "cell_type": "markdown",
      "metadata": {
        "collapsed": true,
        "id": "cA9dBxath0CC"
      },
      "source": [
        "É possível escolher a cor e a espessura das curvas."
      ]
    },
    {
      "cell_type": "code",
      "metadata": {
        "id": "p9nNkKTph0CC"
      },
      "source": [
        "x = linspace(-1.0, 1.0, num=100)\n",
        "plt.plot(x, sin(2*pi*x), color=\"blue\", linewidth = 2.0)\n",
        "plt.plot(x, cos(2*pi*x), color=\"red\", linewidth = 2.0)\n",
        "plt.show()"
      ],
      "execution_count": null,
      "outputs": []
    },
    {
      "cell_type": "markdown",
      "metadata": {
        "id": "RPQUGVIKh0CD"
      },
      "source": [
        "Definir valores que aparecem em destaque nos eixos."
      ]
    },
    {
      "cell_type": "code",
      "metadata": {
        "id": "QbP-PKCWh0CD"
      },
      "source": [
        "x = linspace(-pi, pi, num=100)\n",
        "plt.plot(x, sin(x), color=\"blue\", linewidth = 2.0)\n",
        "plt.plot(x, cos(x), color=\"red\", linewidth = 2.0)\n",
        "plt.xticks([-pi, -pi/2, 0, pi/2, pi])\n",
        "plt.yticks([-1, 0, +1])\n",
        "plt.show()"
      ],
      "execution_count": null,
      "outputs": []
    },
    {
      "cell_type": "markdown",
      "metadata": {
        "id": "5O__OxY_h0CD"
      },
      "source": [
        "A intenção era mostrar os valores $\\left(-\\pi, -\\dfrac{\\pi}{2}, 0, \\dfrac{\\pi}{2}, \\pi  \\right)$ no eixo $x$, porém os valores apareceram com a sua expansão decimal. \n",
        "\n",
        "Podemos mudar a forma como eles aparecem e usar as fontes do $Latex$."
      ]
    },
    {
      "cell_type": "code",
      "metadata": {
        "id": "jt8H8mmZh0CD"
      },
      "source": [
        "x = linspace(-pi, pi, num=100)\n",
        "plt.plot(x, sin(x), color=\"blue\", linewidth = 2.0)\n",
        "plt.plot(x, cos(x), color=\"red\", linewidth = 2.0)\n",
        "plt.xticks([-pi, -pi/2, 0, pi/2, pi], [r'$-\\pi$', r'$-\\pi/2$', r'$0$', r'$+\\pi/2$', r'$+\\pi$'])\n",
        "plt.yticks([-1, 0, +1], [r'$-1$', r'$0$', r'$+1$'])\n",
        "plt.show()"
      ],
      "execution_count": null,
      "outputs": []
    },
    {
      "cell_type": "markdown",
      "metadata": {
        "id": "5NWbMoE9h0CD"
      },
      "source": [
        "Modificar a aparência dos eixos."
      ]
    },
    {
      "cell_type": "code",
      "metadata": {
        "id": "LMcTbnWgh0CE"
      },
      "source": [
        "x = linspace(-pi, pi, num=100)\n",
        "plt.plot(x, sin(x), color=\"blue\", linewidth = 2.0)\n",
        "plt.plot(x, cos(x), color=\"red\", linewidth = 2.0)\n",
        "plt.xticks([-pi, -pi/2, 0, pi/2, pi], [r'$-\\pi$', r'$-\\pi/2$', r'$0$', r'$+\\pi/2$', r'$+\\pi$'])\n",
        "plt.yticks([-1, 0, +1], [r'$-1$', r'$0$', r'$+1$'])\n",
        "\n",
        "ax = plt.gca()  \n",
        "ax.spines['right'].set_color('none')\n",
        "ax.spines['top'].set_color('none')\n",
        "ax.xaxis.set_ticks_position('bottom')\n",
        "ax.spines['bottom'].set_position(('data',0))\n",
        "ax.yaxis.set_ticks_position('left')\n",
        "ax.spines['left'].set_position(('data',0))\n",
        "plt.show()"
      ],
      "execution_count": null,
      "outputs": []
    },
    {
      "cell_type": "markdown",
      "metadata": {
        "id": "YReryvmlh0CE"
      },
      "source": [
        "Acrescentar legendas."
      ]
    },
    {
      "cell_type": "code",
      "metadata": {
        "id": "Z2opzeJAh0CE"
      },
      "source": [
        "x = linspace(-pi, pi, num=100)\n",
        "plt.plot(x, sin(x), color=\"blue\", linewidth = 2.0, label=\"seno\")\n",
        "plt.plot(x, cos(x), color=\"red\", linewidth = 2.0, label=\"cosseno\")\n",
        "plt.xticks([-pi, -pi/2, 0, pi/2, pi], [r'$-\\pi$', r'$-\\pi/2$', r'$0$', r'$+\\pi/2$', r'$+\\pi$'])\n",
        "plt.yticks([-1, 0, +1], [r'$-1$', r'$0$', r'$+1$'])\n",
        "plt.legend(loc='upper left')\n",
        "\n",
        "ax = plt.gca()  \n",
        "ax.spines['right'].set_color('none')\n",
        "ax.spines['top'].set_color('none')\n",
        "ax.xaxis.set_ticks_position('bottom')\n",
        "ax.spines['bottom'].set_position(('data',0))\n",
        "ax.yaxis.set_ticks_position('left')\n",
        "ax.spines['left'].set_position(('data',0))\n",
        "plt.show()"
      ],
      "execution_count": null,
      "outputs": []
    },
    {
      "cell_type": "markdown",
      "metadata": {
        "id": "Lz9E6cFjh0CF"
      },
      "source": [
        "# Faça você mesmo\n",
        "\n",
        "Fique à vontade agora para explorar. Procure fazer algumas contas aqui e depois verifique se o resultado era o que você esperava, procure algum exercício que você já resolveu no caderno e que possa ser executado aqui."
      ]
    },
    {
      "cell_type": "code",
      "metadata": {
        "collapsed": true,
        "id": "EXNtrJ2Vh0CF"
      },
      "source": [
        ""
      ],
      "execution_count": null,
      "outputs": []
    },
    {
      "cell_type": "markdown",
      "metadata": {
        "id": "f07bPedIh0CF"
      },
      "source": [
        "# Referências\n",
        "\n",
        "https://www.python.org/\n",
        "\n",
        "https://www.continuum.io/\n",
        "\n",
        "http://www.sympy.org/\n",
        "\n",
        "http://www.numpy.org/\n",
        "\n",
        "http://www.scipy-lectures.org/index.html\n"
      ]
    },
    {
      "cell_type": "code",
      "metadata": {
        "collapsed": true,
        "id": "lW6HkaHah0CF"
      },
      "source": [
        ""
      ],
      "execution_count": null,
      "outputs": []
    }
  ]
}